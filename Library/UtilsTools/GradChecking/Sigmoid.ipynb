{
 "cells": [
  {
   "cell_type": "code",
   "execution_count": 1,
   "outputs": [],
   "source": [
    "from Library.UtilsTools.DataGenerater import get_linear_data\n",
    "from Library.UtilsTools.GradChecking.GradChecking import estimate_grad\n",
    "from Library.Activator import Sigmoid\n",
    "import numpy as np"
   ],
   "metadata": {
    "collapsed": false,
    "pycharm": {
     "name": "#%%\n"
    }
   }
  },
  {
   "cell_type": "code",
   "execution_count": 2,
   "metadata": {
    "collapsed": false,
    "pycharm": {
     "name": "#%%\n"
    }
   },
   "outputs": [],
   "source": [
    "X,_ = get_linear_data(size=(10,1),seed=10)\n",
    "activator = Sigmoid()"
   ]
  },
  {
   "cell_type": "code",
   "execution_count": 3,
   "metadata": {
    "collapsed": false,
    "pycharm": {
     "name": "#%%\n"
    }
   },
   "outputs": [],
   "source": [
    "X_left, X_right = X.copy(), X.copy()\n",
    "X_left[0] -= 0.0001\n",
    "X_right[0] += 0.0001"
   ]
  },
  {
   "cell_type": "code",
   "execution_count": 4,
   "metadata": {
    "pycharm": {
     "name": "#%%\n"
    }
   },
   "outputs": [
    {
     "data": {
      "text/plain": "(array([[0.05844361],\n        [0.        ],\n        [0.        ],\n        [0.        ],\n        [0.        ],\n        [0.        ],\n        [0.        ],\n        [0.        ],\n        [0.        ],\n        [0.        ]]),\n array([[0.05844873],\n        [0.11797947],\n        [0.20660813],\n        [0.24950296],\n        [0.19606427],\n        [0.11151087],\n        [0.05503823],\n        [0.02739037],\n        [0.0102394 ],\n        [0.00441863]]))"
     },
     "execution_count": 4,
     "metadata": {},
     "output_type": "execute_result"
    }
   ],
   "source": [
    "estimate_grad(activator,(X_left,),(X_right,),0.0001)"
   ]
  },
  {
   "cell_type": "code",
   "execution_count": null,
   "metadata": {
    "pycharm": {
     "name": "#%%\n"
    }
   },
   "outputs": [],
   "source": []
  }
 ],
 "metadata": {
  "kernelspec": {
   "display_name": "pytorch",
   "language": "python",
   "name": "python3"
  },
  "language_info": {
   "codemirror_mode": {
    "name": "ipython",
    "version": 3
   },
   "file_extension": ".py",
   "mimetype": "text/x-python",
   "name": "python",
   "nbconvert_exporter": "python",
   "pygments_lexer": "ipython3",
   "version": "3.9.13"
  },
  "vscode": {
   "interpreter": {
    "hash": "4167cefbf33960fb30d788577eed0bbaaf105be7afdb4ec86951ad71d747e6de"
   }
  }
 },
 "nbformat": 4,
 "nbformat_minor": 0
}