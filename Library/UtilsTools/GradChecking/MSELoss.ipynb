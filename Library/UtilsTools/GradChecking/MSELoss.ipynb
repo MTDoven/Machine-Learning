{
 "cells": [
  {
   "cell_type": "code",
   "execution_count": null,
   "outputs": [],
   "source": [
    "from Library.UtilsTools.DataGenerater import get_linear_data\n",
    "from Library.UtilsTools.GradChecking.GradChecking import estimate_grad\n",
    "from Library.Criterion import MSELoss\n",
    "import numpy as np"
   ],
   "metadata": {
    "collapsed": false,
    "pycharm": {
     "name": "#%%\n"
    }
   }
  },
  {
   "cell_type": "code",
   "execution_count": 2,
   "metadata": {
    "collapsed": false,
    "pycharm": {
     "name": "#%%\n"
    }
   },
   "outputs": [],
   "source": [
    "X,y = get_linear_data(size=(10,1),seed=10)\n",
    "criterion = MSELoss()"
   ]
  },
  {
   "cell_type": "code",
   "execution_count": 3,
   "metadata": {
    "collapsed": false,
    "pycharm": {
     "name": "#%%\n"
    }
   },
   "outputs": [],
   "source": [
    "X_left, X_right = X.copy(), X.copy()\n",
    "X_left[0] -= 0.0001\n",
    "X_right[0] += 0.0001"
   ]
  },
  {
   "cell_type": "code",
   "execution_count": 4,
   "metadata": {
    "pycharm": {
     "name": "#%%\n"
    }
   },
   "outputs": [
    {
     "data": {
      "text/plain": "(0.2710981801357093,\n array([[ 0.27108818],\n        [ 0.08433658],\n        [-0.11128236],\n        [-0.29107629],\n        [-0.50060207],\n        [-0.69200255],\n        [-0.87792604],\n        [-1.05403848],\n        [-1.2560712 ],\n        [-1.44130302]]))"
     },
     "execution_count": 4,
     "metadata": {},
     "output_type": "execute_result"
    }
   ],
   "source": [
    "estimate_grad(criterion,(X_left,y),(X_right,y),0.0001)"
   ]
  },
  {
   "cell_type": "code",
   "execution_count": null,
   "metadata": {
    "pycharm": {
     "name": "#%%\n"
    }
   },
   "outputs": [],
   "source": []
  }
 ],
 "metadata": {
  "kernelspec": {
   "display_name": "pytorch",
   "language": "python",
   "name": "python3"
  },
  "language_info": {
   "codemirror_mode": {
    "name": "ipython",
    "version": 3
   },
   "file_extension": ".py",
   "mimetype": "text/x-python",
   "name": "python",
   "nbconvert_exporter": "python",
   "pygments_lexer": "ipython3",
   "version": "3.9.13"
  },
  "vscode": {
   "interpreter": {
    "hash": "4167cefbf33960fb30d788577eed0bbaaf105be7afdb4ec86951ad71d747e6de"
   }
  }
 },
 "nbformat": 4,
 "nbformat_minor": 0
}