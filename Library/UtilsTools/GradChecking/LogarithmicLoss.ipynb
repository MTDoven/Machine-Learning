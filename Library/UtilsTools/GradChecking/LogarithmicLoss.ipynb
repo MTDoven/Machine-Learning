{
 "cells": [
  {
   "cell_type": "code",
   "execution_count": 7,
   "metadata": {
    "collapsed": false,
    "pycharm": {
     "name": "#%%\n"
    }
   },
   "outputs": [],
   "source": [
    "from Library.UtilsTools.DataGenerater import get_classify_data\n",
    "from Library.UtilsTools.GradChecking.GradChecking import estimate_grad\n",
    "from Library.Criterion import LogarithmicLoss\n",
    "from Library.Activator import Sigmoid\n",
    "import numpy as np"
   ]
  },
  {
   "cell_type": "code",
   "execution_count": 8,
   "metadata": {
    "collapsed": false,
    "pycharm": {
     "name": "#%%\n"
    }
   },
   "outputs": [],
   "source": [
    "X,y = get_classify_data(size=(10,1),classes=2,seed=10)\n",
    "X = Sigmoid()(X)\n",
    "criterion = LogarithmicLoss()"
   ]
  },
  {
   "cell_type": "code",
   "execution_count": 9,
   "metadata": {
    "collapsed": false,
    "pycharm": {
     "name": "#%%\n"
    }
   },
   "outputs": [],
   "source": [
    "X_left, X_right = X.copy(), X.copy()\n",
    "X_left[0] -= 0.0001\n",
    "X_right[0] += 0.0001"
   ]
  },
  {
   "cell_type": "code",
   "execution_count": 10,
   "metadata": {
    "pycharm": {
     "name": "#%%\n"
    }
   },
   "outputs": [
    {
     "data": {
      "text/plain": "(1.6044052289188038,\n array([[  1.60183386],\n        [  0.7317767 ],\n        [  0.34282636],\n        [  0.20933399],\n        [  0.13656712],\n        [ -0.78211321],\n        [ -1.71071042],\n        [ -3.5480183 ],\n        [ -9.66515589],\n        [-22.53102702]]))"
     },
     "execution_count": 10,
     "metadata": {},
     "output_type": "execute_result"
    }
   ],
   "source": [
    "estimate_grad(criterion,(X_left,y),(X_right,y),0.0001)"
   ]
  },
  {
   "cell_type": "code",
   "execution_count": null,
   "outputs": [],
   "source": [],
   "metadata": {
    "collapsed": false,
    "pycharm": {
     "name": "#%%\n"
    }
   }
  }
 ],
 "metadata": {
  "kernelspec": {
   "display_name": "pytorch",
   "language": "python",
   "name": "python3"
  },
  "language_info": {
   "codemirror_mode": {
    "name": "ipython",
    "version": 3
   },
   "file_extension": ".py",
   "mimetype": "text/x-python",
   "name": "python",
   "nbconvert_exporter": "python",
   "pygments_lexer": "ipython3",
   "version": "3.9.13"
  },
  "vscode": {
   "interpreter": {
    "hash": "4167cefbf33960fb30d788577eed0bbaaf105be7afdb4ec86951ad71d747e6de"
   }
  }
 },
 "nbformat": 4,
 "nbformat_minor": 0
}