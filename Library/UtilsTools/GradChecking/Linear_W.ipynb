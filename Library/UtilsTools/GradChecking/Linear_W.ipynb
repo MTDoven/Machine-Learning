{
 "cells": [
  {
   "cell_type": "code",
   "execution_count": 1,
   "outputs": [],
   "source": [
    "from Library.UtilsTools.DataGenerater import get_linear_data\n",
    "from Library.UtilsTools.GradChecking.GradChecking import estimate_grad\n",
    "from Library.BPLayer import Linear\n",
    "import numpy as np"
   ],
   "metadata": {
    "collapsed": false,
    "pycharm": {
     "name": "#%%\n"
    }
   }
  },
  {
   "cell_type": "code",
   "execution_count": 2,
   "metadata": {
    "collapsed": false,
    "pycharm": {
     "name": "#%%\n"
    }
   },
   "outputs": [],
   "source": [
    "X,y = get_linear_data(size=(10,2),seed=10)\n",
    "layer = Linear(2,1)"
   ]
  },
  {
   "cell_type": "code",
   "execution_count": 3,
   "outputs": [],
   "source": [
    "temp = (X,)\n",
    "grad_approx, grad_cal = estimate_grad(layer,temp,temp,0.001)"
   ],
   "metadata": {
    "collapsed": false,
    "pycharm": {
     "name": "#%%\n"
    }
   }
  },
  {
   "cell_type": "code",
   "execution_count": 4,
   "outputs": [],
   "source": [
    "grad_cal = grad_cal[-1]\n",
    "grad_approx = grad_approx.reshape(-1)"
   ],
   "metadata": {
    "collapsed": false,
    "pycharm": {
     "name": "#%%\n"
    }
   }
  },
  {
   "cell_type": "code",
   "execution_count": 5,
   "outputs": [
    {
     "data": {
      "text/plain": "(array([-0.65275032, -0.44551111, -0.23559845, -0.01634791,  0.23987245,\n         0.45004582,  0.69400298,  0.91884225,  1.10553926,  1.38015732]),\n array([-0.65275032, -0.44551111, -0.23559845, -0.01634791,  0.23987245,\n         0.45004582,  0.69400298,  0.91884225,  1.10553926,  1.38015732]),\n array([False, False, False, False, False, False, False, False, False,\n        False]))"
     },
     "execution_count": 5,
     "metadata": {},
     "output_type": "execute_result"
    }
   ],
   "source": [
    "grad_cal, grad_approx, grad_cal==grad_approx"
   ],
   "metadata": {
    "collapsed": false,
    "pycharm": {
     "name": "#%%\n"
    }
   }
  },
  {
   "cell_type": "code",
   "execution_count": null,
   "outputs": [],
   "source": [],
   "metadata": {
    "collapsed": false,
    "pycharm": {
     "name": "#%%\n"
    }
   }
  }
 ],
 "metadata": {
  "kernelspec": {
   "display_name": "pytorch",
   "language": "python",
   "name": "python3"
  },
  "language_info": {
   "codemirror_mode": {
    "name": "ipython",
    "version": 3
   },
   "file_extension": ".py",
   "mimetype": "text/x-python",
   "name": "python",
   "nbconvert_exporter": "python",
   "pygments_lexer": "ipython3",
   "version": "3.9.13"
  },
  "vscode": {
   "interpreter": {
    "hash": "4167cefbf33960fb30d788577eed0bbaaf105be7afdb4ec86951ad71d747e6de"
   }
  }
 },
 "nbformat": 4,
 "nbformat_minor": 0
}