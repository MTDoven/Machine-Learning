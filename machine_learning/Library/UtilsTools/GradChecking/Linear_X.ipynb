{
 "cells": [
  {
   "cell_type": "code",
   "execution_count": 20,
   "outputs": [],
   "source": [
    "from Library.UtilsTools.DataGenerater import get_linear_data\n",
    "from Library.UtilsTools.GradChecking.GradChecking import estimate_grad\n",
    "from Library.BPLayer import Linear\n",
    "import numpy as np"
   ],
   "metadata": {
    "collapsed": false,
    "pycharm": {
     "name": "#%%\n"
    }
   }
  },
  {
   "cell_type": "code",
   "execution_count": 21,
   "metadata": {
    "collapsed": false,
    "pycharm": {
     "name": "#%%\n"
    }
   },
   "outputs": [],
   "source": [
    "X,_ = get_linear_data(size=(1,3),seed=1)\n",
    "layer = Linear(3,1)"
   ]
  },
  {
   "cell_type": "code",
   "execution_count": 22,
   "outputs": [],
   "source": [
    "X_left, X_right = X.copy(), X.copy()\n",
    "X_left[0][0] -= 0.0001\n",
    "X_right[0][0] += 0.0001"
   ],
   "metadata": {
    "collapsed": false,
    "pycharm": {
     "name": "#%%\n"
    }
   }
  },
  {
   "cell_type": "code",
   "execution_count": 23,
   "outputs": [
    {
     "data": {
      "text/plain": "(array([[-0.01593322]]),\n array([[-0.12270959, -0.01593322,  0.01824993, -0.12453854]]))"
     },
     "execution_count": 23,
     "metadata": {},
     "output_type": "execute_result"
    }
   ],
   "source": [
    "estimate_grad(layer,(X_left,),(X_right,),0.0001)"
   ],
   "metadata": {
    "collapsed": false,
    "pycharm": {
     "name": "#%%\n"
    }
   }
  },
  {
   "cell_type": "code",
   "execution_count": null,
   "outputs": [],
   "source": [],
   "metadata": {
    "collapsed": false,
    "pycharm": {
     "name": "#%%\n"
    }
   }
  }
 ],
 "metadata": {
  "kernelspec": {
   "display_name": "pytorch",
   "language": "python",
   "name": "python3"
  },
  "language_info": {
   "codemirror_mode": {
    "name": "ipython",
    "version": 3
   },
   "file_extension": ".py",
   "mimetype": "text/x-python",
   "name": "python",
   "nbconvert_exporter": "python",
   "pygments_lexer": "ipython3",
   "version": "3.9.13"
  },
  "vscode": {
   "interpreter": {
    "hash": "4167cefbf33960fb30d788577eed0bbaaf105be7afdb4ec86951ad71d747e6de"
   }
  }
 },
 "nbformat": 4,
 "nbformat_minor": 0
}