{
 "cells": [
  {
   "cell_type": "code",
   "execution_count": 7,
   "outputs": [],
   "source": [
    "from Library.Normalize import PCA, DataNormalize\n",
    "import numpy as np"
   ],
   "metadata": {
    "collapsed": false,
    "pycharm": {
     "name": "#%%\n"
    }
   }
  },
  {
   "cell_type": "code",
   "execution_count": 2,
   "outputs": [],
   "source": [
    "X = np.array([[84,65,61,72,79,81],\n",
    "              [64,77,77,76,55,70],\n",
    "              [65,67,63,49,57,67],\n",
    "              [74,80,69,75,63,74],\n",
    "              [84,74,70,80,74,82],\n",
    "              [84,65,61,72,79,81],\n",
    "              [64,77,77,76,55,70],\n",
    "              [65,67,63,49,57,67],\n",
    "              [74,80,69,75,63,74],\n",
    "              [84,74,70,80,74,82]])"
   ],
   "metadata": {
    "collapsed": false,
    "pycharm": {
     "name": "#%%\n"
    }
   }
  },
  {
   "cell_type": "code",
   "execution_count": 3,
   "outputs": [],
   "source": [
    "pca = PCA(inn=6, out=2)"
   ],
   "metadata": {
    "collapsed": false,
    "pycharm": {
     "name": "#%%\n"
    }
   }
  },
  {
   "cell_type": "code",
   "execution_count": 5,
   "outputs": [
    {
     "data": {
      "text/plain": "array([[-2.49079591,  1.17700221],\n       [ 2.05182575, -1.45497368],\n       [ 1.83161475,  2.41287609],\n       [ 0.40725188, -1.06247592],\n       [-1.79989646, -1.07242871],\n       [-2.49079591,  1.17700221],\n       [ 2.05182575, -1.45497368],\n       [ 1.83161475,  2.41287609],\n       [ 0.40725188, -1.06247592],\n       [-1.79989646, -1.07242871]])"
     },
     "execution_count": 5,
     "metadata": {},
     "output_type": "execute_result"
    }
   ],
   "source": [
    "result = pca(X)\n",
    "result"
   ],
   "metadata": {
    "collapsed": false,
    "pycharm": {
     "name": "#%%\n"
    }
   }
  },
  {
   "cell_type": "code",
   "execution_count": 6,
   "outputs": [
    {
     "data": {
      "text/plain": "array([[ 1.25684719, -1.13361052, -1.26021142, -0.05297672,  1.38626675,\n         1.10090233],\n       [-1.0060056 ,  1.21200779,  1.30882   ,  0.32153178, -1.16060786,\n        -0.82615015],\n       [-1.12237905, -1.04521999, -0.90162469, -1.83791044, -0.89341776,\n        -1.35481619],\n       [-0.15291137,  0.68395884,  0.69125681,  0.50675291, -0.26009094,\n        -0.03529597],\n       [ 1.02444883,  0.28286388,  0.1617593 ,  1.06260247,  0.9278498 ,\n         1.11535998],\n       [ 1.25684719, -1.13361052, -1.26021142, -0.05297672,  1.38626675,\n         1.10090233],\n       [-1.0060056 ,  1.21200779,  1.30882   ,  0.32153178, -1.16060786,\n        -0.82615015],\n       [-1.12237905, -1.04521999, -0.90162469, -1.83791044, -0.89341776,\n        -1.35481619],\n       [-0.15291137,  0.68395884,  0.69125681,  0.50675291, -0.26009094,\n        -0.03529597],\n       [ 1.02444883,  0.28286388,  0.1617593 ,  1.06260247,  0.9278498 ,\n         1.11535998]])"
     },
     "execution_count": 6,
     "metadata": {},
     "output_type": "execute_result"
    }
   ],
   "source": [
    "X_recreated = pca.restore(result)\n",
    "X_recreated"
   ],
   "metadata": {
    "collapsed": false,
    "pycharm": {
     "name": "#%%\n"
    }
   }
  },
  {
   "cell_type": "code",
   "execution_count": 8,
   "outputs": [
    {
     "data": {
      "text/plain": "array([[ 1.12295566, -1.3221891 , -1.23743687,  0.14543051,  1.42327862,\n         1.04859064],\n       [-1.16879058,  0.7654779 ,  1.59099026,  0.50900678, -1.12587711,\n        -0.81181211],\n       [-1.05420327, -0.9742446 , -0.88388348, -1.94513306, -0.91344747,\n        -1.31919468],\n       [-0.02291746,  1.28739465,  0.1767767 ,  0.41811271, -0.27615854,\n        -0.13530202],\n       [ 1.12295566,  0.24356115,  0.35355339,  0.87258306,  0.89220451,\n         1.21771816],\n       [ 1.12295566, -1.3221891 , -1.23743687,  0.14543051,  1.42327862,\n         1.04859064],\n       [-1.16879058,  0.7654779 ,  1.59099026,  0.50900678, -1.12587711,\n        -0.81181211],\n       [-1.05420327, -0.9742446 , -0.88388348, -1.94513306, -0.91344747,\n        -1.31919468],\n       [-0.02291746,  1.28739465,  0.1767767 ,  0.41811271, -0.27615854,\n        -0.13530202],\n       [ 1.12295566,  0.24356115,  0.35355339,  0.87258306,  0.89220451,\n         1.21771816]])"
     },
     "execution_count": 8,
     "metadata": {},
     "output_type": "execute_result"
    }
   ],
   "source": [
    "DataNormalize()(pca.X_origin)"
   ],
   "metadata": {
    "collapsed": false,
    "pycharm": {
     "name": "#%%\n"
    }
   }
  },
  {
   "cell_type": "markdown",
   "source": [],
   "metadata": {
    "collapsed": false,
    "pycharm": {
     "name": "#%% md\n"
    }
   }
  }
 ],
 "metadata": {
  "kernelspec": {
   "display_name": "Python 3",
   "language": "python",
   "name": "python3"
  },
  "language_info": {
   "codemirror_mode": {
    "name": "ipython",
    "version": 2
   },
   "file_extension": ".py",
   "mimetype": "text/x-python",
   "name": "python",
   "nbconvert_exporter": "python",
   "pygments_lexer": "ipython2",
   "version": "2.7.6"
  }
 },
 "nbformat": 4,
 "nbformat_minor": 0
}