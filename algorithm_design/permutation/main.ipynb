{
 "cells": [
  {
   "cell_type": "code",
   "execution_count": 37,
   "id": "initial_id",
   "metadata": {
    "collapsed": true,
    "ExecuteTime": {
     "end_time": "2024-12-10T15:25:08.544295600Z",
     "start_time": "2024-12-10T15:25:08.540203300Z"
    }
   },
   "outputs": [],
   "source": [
    "from permutation import *"
   ]
  },
  {
   "cell_type": "code",
   "execution_count": 38,
   "outputs": [],
   "source": [
    "def diction_to_list(diction):\n",
    "    linear1 = Linear(\"linear1\", diction['linear1.weight'], diction['linear1.bias'])\n",
    "    linear2 = Linear(\"linear2\", diction['linear2.weight'], diction['linear2.bias'])\n",
    "    linear3 = Linear(\"linear3\", diction['linear3.weight'], diction['linear3.bias'])\n",
    "    return [linear1, linear2, linear3]\n",
    "def list_to_diction(module_list):\n",
    "    diction = {}\n",
    "    diction.update(module_list[0].dict)\n",
    "    diction.update(module_list[1].dict)\n",
    "    diction.update(module_list[2].dict)\n",
    "    return diction\n",
    "ckpt1 = torch.load(\"./model_ckpt1.pth\", weights_only=True)\n",
    "ckpt2 = torch.load(\"./model_ckpt2.pth\", weights_only=True)"
   ],
   "metadata": {
    "collapsed": false,
    "ExecuteTime": {
     "end_time": "2024-12-10T15:25:08.856835Z",
     "start_time": "2024-12-10T15:25:08.806358300Z"
    }
   },
   "id": "cd71227efae888a7"
  },
  {
   "cell_type": "code",
   "execution_count": 39,
   "outputs": [
    {
     "name": "stdout",
     "output_type": "stream",
     "text": [
      "tensor(10.3364, device='cuda:0')\n"
     ]
    }
   ],
   "source": [
    "# print original error\n",
    "error = 0\n",
    "for (k1, v1), (k2, v2) in zip(ckpt1.items(), ckpt2.items()):\n",
    "    error = error + ((normalize(v1) - normalize(v2)) ** 2).mean()\n",
    "print(error)"
   ],
   "metadata": {
    "collapsed": false,
    "ExecuteTime": {
     "end_time": "2024-12-10T15:25:09.075367700Z",
     "start_time": "2024-12-10T15:25:08.968834Z"
    }
   },
   "id": "c911fdcd4f9504ad"
  },
  {
   "cell_type": "code",
   "execution_count": 40,
   "outputs": [],
   "source": [
    "# solve sequential\n",
    "after_ckpt1 = solve_sequential(source_list=diction_to_list(ckpt1), target_list=diction_to_list(ckpt2))\n",
    "after_ckpt1 = list_to_diction(after_ckpt1)\n",
    "torch.save(after_ckpt1, \"./test.pth\")"
   ],
   "metadata": {
    "collapsed": false,
    "ExecuteTime": {
     "end_time": "2024-12-10T15:25:14.769608900Z",
     "start_time": "2024-12-10T15:25:09.076371800Z"
    }
   },
   "id": "a433735f0d5431eb"
  },
  {
   "cell_type": "code",
   "execution_count": 41,
   "outputs": [
    {
     "name": "stdout",
     "output_type": "stream",
     "text": [
      "tensor(8.8750, device='cuda:0')\n"
     ]
    }
   ],
   "source": [
    "# print after error\n",
    "error = 0\n",
    "for (k1, v1), (k2, v2) in zip(after_ckpt1.items(), ckpt2.items()):\n",
    "    error = error + ((normalize(v1) - normalize(v2)) ** 2).mean()\n",
    "print(error)"
   ],
   "metadata": {
    "collapsed": false,
    "ExecuteTime": {
     "end_time": "2024-12-10T15:25:14.785786100Z",
     "start_time": "2024-12-10T15:25:14.770827700Z"
    }
   },
   "id": "d2505968898c4052"
  },
  {
   "cell_type": "code",
   "execution_count": null,
   "outputs": [],
   "source": [],
   "metadata": {
    "collapsed": false
   },
   "id": "2c23a5a720319aa"
  }
 ],
 "metadata": {
  "kernelspec": {
   "display_name": "Python 3",
   "language": "python",
   "name": "python3"
  },
  "language_info": {
   "codemirror_mode": {
    "name": "ipython",
    "version": 2
   },
   "file_extension": ".py",
   "mimetype": "text/x-python",
   "name": "python",
   "nbconvert_exporter": "python",
   "pygments_lexer": "ipython2",
   "version": "2.7.6"
  }
 },
 "nbformat": 4,
 "nbformat_minor": 5
}
