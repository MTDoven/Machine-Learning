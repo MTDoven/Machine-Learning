{
 "cells": [
  {
   "cell_type": "code",
   "execution_count": 1,
   "outputs": [],
   "source": [
    "from Library.Algorithms import KMeans\n",
    "from Library.UtilsTools.DataGenerater import get_picture_data"
   ],
   "metadata": {
    "collapsed": false,
    "pycharm": {
     "name": "#%%\n"
    }
   }
  },
  {
   "cell_type": "code",
   "execution_count": 2,
   "outputs": [
    {
     "data": {
      "text/plain": "array([[105, 117, 185, 255],\n       [105, 117, 185, 255],\n       [105, 117, 185, 255],\n       ...,\n       [ 51,  80, 104, 255],\n       [ 51,  80, 104, 255],\n       [ 51,  80, 104, 255]], dtype=uint8)"
     },
     "execution_count": 2,
     "metadata": {},
     "output_type": "execute_result"
    }
   ],
   "source": [
    "X_pic = get_picture_data(mode=\"numpy\")\n",
    "X = X_pic.reshape(-1,4)\n",
    "X"
   ],
   "metadata": {
    "collapsed": false,
    "pycharm": {
     "name": "#%%\n"
    }
   }
  },
  {
   "cell_type": "code",
   "execution_count": 3,
   "outputs": [
    {
     "data": {
      "text/plain": "[array([167.95494861, 181.07039134, 231.8260315 , 255.        ]),\n array([ 38.99284404,  47.15206418,  37.30659736, 255.        ]),\n array([ 82.13417659, 105.25874837, 133.54116395, 255.        ])]"
     },
     "execution_count": 3,
     "metadata": {},
     "output_type": "execute_result"
    }
   ],
   "source": [
    "kmeans = KMeans(K=3)\n",
    "centers = kmeans(X)\n",
    "centers"
   ],
   "metadata": {
    "collapsed": false,
    "pycharm": {
     "name": "#%%\n"
    }
   }
  },
  {
   "cell_type": "code",
   "execution_count": 4,
   "outputs": [
    {
     "data": {
      "text/plain": "[array([[120, 134, 197, 255],\n        [120, 134, 197, 255],\n        [120, 134, 197, 255],\n        ...,\n        [159, 170, 193, 255],\n        [159, 170, 193, 255],\n        [159, 170, 193, 255]], dtype=uint8),\n array([[ 44,  45,  64, 255],\n        [ 44,  45,  64, 255],\n        [ 44,  45,  64, 255],\n        ...,\n        [ 39,  71,  98, 255],\n        [ 39,  71,  98, 255],\n        [ 39,  71,  98, 255]], dtype=uint8),\n array([[105, 117, 185, 255],\n        [105, 117, 185, 255],\n        [105, 117, 185, 255],\n        ...,\n        [ 51,  80, 104, 255],\n        [ 51,  80, 104, 255],\n        [ 51,  80, 104, 255]], dtype=uint8)]"
     },
     "execution_count": 4,
     "metadata": {},
     "output_type": "execute_result"
    }
   ],
   "source": [
    "kmeans.get_classified_data()"
   ],
   "metadata": {
    "collapsed": false,
    "pycharm": {
     "name": "#%%\n"
    }
   }
  },
  {
   "cell_type": "code",
   "execution_count": null,
   "outputs": [],
   "source": [],
   "metadata": {
    "collapsed": false,
    "pycharm": {
     "name": "#%%\n"
    }
   }
  }
 ],
 "metadata": {
  "kernelspec": {
   "display_name": "Python 3",
   "language": "python",
   "name": "python3"
  },
  "language_info": {
   "codemirror_mode": {
    "name": "ipython",
    "version": 2
   },
   "file_extension": ".py",
   "mimetype": "text/x-python",
   "name": "python",
   "nbconvert_exporter": "python",
   "pygments_lexer": "ipython2",
   "version": "2.7.6"
  }
 },
 "nbformat": 4,
 "nbformat_minor": 0
}