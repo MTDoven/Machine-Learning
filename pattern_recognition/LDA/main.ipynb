{
 "cells": [
  {
   "cell_type": "code",
   "execution_count": 9,
   "id": "initial_id",
   "metadata": {
    "collapsed": true,
    "ExecuteTime": {
     "end_time": "2024-10-09T13:58:49.293435800Z",
     "start_time": "2024-10-09T13:58:49.287562200Z"
    }
   },
   "outputs": [],
   "source": [
    "import numpy as np\n",
    "import seaborn as sns\n",
    "import pandas as pd\n",
    "import matplotlib.pyplot as plt\n",
    "from sklearn.decomposition import PCA\n",
    "import time\n",
    "\n",
    "def draw(X, y):\n",
    "    if X.shape[-1] >= 2:\n",
    "        pca = PCA(n_components=2)\n",
    "        X_pca = pca.fit_transform(X)\n",
    "        df_pca = pd.DataFrame(X_pca, columns=['PC1', 'PC2'])\n",
    "        df_pca['class'] = y\n",
    "        plt.figure(figsize=(6, 5))\n",
    "        sns.scatterplot(x='PC1', y='PC2', data=df_pca, hue='class', \n",
    "                        palette=sns.color_palette(\"husl\", len(np.unique(y))),  legend=\"full\")\n",
    "    elif X.shape[-1] == 1:\n",
    "        padding = np.random.random(X.shape)\n",
    "        X = np.concatenate([X, padding], axis=-1)\n",
    "        draw(X, y)\n",
    "    else: # dim == 0\n",
    "        raise RuntimeError(\"X.shape[-1]==0, Make sure a right X input.\")\n",
    "    \n",
    "class Timer:\n",
    "    def __init__(self, msg):\n",
    "        self.msg = msg\n",
    "    def __enter__(self):\n",
    "        self.start = time.time()\n",
    "        return self\n",
    "    def __exit__(self, exc_type, exc_value, traceback):\n",
    "        self.end = time.time()\n",
    "        self.interval = self.end - self.start\n",
    "        print(f\"{self.msg}: {self.interval * 1000:.2f}ms\")"
   ]
  },
  {
   "cell_type": "markdown",
   "source": [
    "---\n",
    "### load sonar"
   ],
   "metadata": {
    "collapsed": false
   },
   "id": "746e1f7c740dc232"
  },
  {
   "cell_type": "code",
   "execution_count": 10,
   "outputs": [],
   "source": [
    "from sklearn.preprocessing import StandardScaler\n",
    "sonar = pd.read_csv(\"./sonar.all-data.csv\", header=None)\n",
    "X = sonar.iloc[:, :-1].values\n",
    "y = sonar.iloc[:, -1].values\n",
    "y = pd.factorize(y)[0]\n",
    "# scaler = StandardScaler()\n",
    "# X = scaler.fit_transform(X)\n",
    "#draw(X, y)\n",
    "#plt.savefig(\"output.png\", dpi=1000)"
   ],
   "metadata": {
    "collapsed": false,
    "ExecuteTime": {
     "end_time": "2024-10-09T13:58:49.343806Z",
     "start_time": "2024-10-09T13:58:49.293971700Z"
    }
   },
   "id": "ac95e37384b238fc"
  },
  {
   "cell_type": "markdown",
   "source": [
    "---\n",
    "### load iris"
   ],
   "metadata": {
    "collapsed": false
   },
   "id": "486e251dbd1b5609"
  },
  {
   "cell_type": "code",
   "execution_count": 11,
   "outputs": [],
   "source": [
    "from sklearn.datasets import load_iris\n",
    "from sklearn.preprocessing import StandardScaler\n",
    "iris = load_iris()\n",
    "X = iris.data\n",
    "y = iris.target\n",
    "scaler = StandardScaler()\n",
    "X = scaler.fit_transform(X)\n",
    "#draw(X, y)\n",
    "#plt.savefig(\"output.png\", dpi=1000)"
   ],
   "metadata": {
    "collapsed": false,
    "ExecuteTime": {
     "end_time": "2024-10-09T13:58:49.366626400Z",
     "start_time": "2024-10-09T13:58:49.344805900Z"
    }
   },
   "id": "efcee5402108a447"
  },
  {
   "cell_type": "markdown",
   "source": [
    "---\n",
    "### calculate LDA"
   ],
   "metadata": {
    "collapsed": false
   },
   "id": "3187b160ef09f1a7"
  },
  {
   "cell_type": "code",
   "execution_count": 12,
   "outputs": [
    {
     "name": "stdout",
     "output_type": "stream",
     "text": [
      "LDA: 0.50ms\n"
     ]
    }
   ],
   "source": [
    "from lda import LDA\n",
    "# from sklearn.discriminant_analysis import LinearDiscriminantAnalysis as LDA\n",
    "lda = LDA(n_components=1)\n",
    "with Timer(\"LDA\"):\n",
    "    lda.fit(X, y)\n",
    "    reduced_X = lda.transform(X)\n",
    "#draw(reduced_X, y)\n",
    "#plt.savefig(\"output.png\", dpi=1000)"
   ],
   "metadata": {
    "collapsed": false,
    "ExecuteTime": {
     "end_time": "2024-10-09T13:58:49.388339200Z",
     "start_time": "2024-10-09T13:58:49.367127400Z"
    }
   },
   "id": "735b35012e69acb6"
  },
  {
   "cell_type": "markdown",
   "source": [
    "---\n",
    "### w/ LDA "
   ],
   "metadata": {
    "collapsed": false
   },
   "id": "e20f84f013533125"
  },
  {
   "cell_type": "code",
   "execution_count": 13,
   "outputs": [
    {
     "name": "stdout",
     "output_type": "stream",
     "text": [
      "LeaveOneOut_GaussianNB: 119.59ms\n",
      "GaussianNB_acc:\t\t\t\t98.667\n",
      "LeaveOneOut_LogisticRegression: 265.26ms\n",
      "LogisticRegression_acc:\t\t98.000\n",
      "LeaveOneOut_KNeighborsClassifier: 210.47ms\n",
      "KNeighborsClassifier_acc:\t96.667\n"
     ]
    }
   ],
   "source": [
    "from sklearn.model_selection import LeaveOneOut, cross_val_score\n",
    "from sklearn.preprocessing import StandardScaler\n",
    "\n",
    "def cal_metrics(clf, X=reduced_X):\n",
    "    loo = LeaveOneOut()\n",
    "    scaler = StandardScaler()\n",
    "    X_scaled = scaler.fit_transform(X)\n",
    "    # Calculate accuracy\n",
    "    acc_scores = cross_val_score(clf, X_scaled, y, cv=loo)\n",
    "    acc = acc_scores.mean() * 100\n",
    "    return acc, None\n",
    "\n",
    "from sklearn.naive_bayes import GaussianNB as Classifier\n",
    "with Timer(\"LeaveOneOut_GaussianNB\"):\n",
    "    acc, _ = cal_metrics(Classifier())\n",
    "print(f\"GaussianNB_acc:\\t\\t\\t\\t{acc:.3f}\")\n",
    "\n",
    "from sklearn.linear_model import LogisticRegression as Classifier\n",
    "with Timer(\"LeaveOneOut_LogisticRegression\"):\n",
    "    acc, _ = cal_metrics(Classifier())\n",
    "print(f\"LogisticRegression_acc:\\t\\t{acc:.3f}\")\n",
    "\n",
    "from sklearn.neighbors import KNeighborsClassifier as Classifier\n",
    "with Timer(\"LeaveOneOut_KNeighborsClassifier\"):\n",
    "    acc, _ = cal_metrics(Classifier(n_neighbors=8))\n",
    "print(f\"KNeighborsClassifier_acc:\\t{acc:.3f}\")\n",
    "\n",
    "# fisher"
   ],
   "metadata": {
    "collapsed": false,
    "ExecuteTime": {
     "end_time": "2024-10-09T13:58:50.017413Z",
     "start_time": "2024-10-09T13:58:49.384839400Z"
    }
   },
   "id": "be7c92e4507d688e"
  },
  {
   "cell_type": "markdown",
   "source": [
    "---\n",
    "### w/o LDA"
   ],
   "metadata": {
    "collapsed": false
   },
   "id": "503c669419dd39ed"
  },
  {
   "cell_type": "code",
   "execution_count": 14,
   "outputs": [
    {
     "name": "stdout",
     "output_type": "stream",
     "text": [
      "LeaveOneOut_GaussianNB: 132.78ms\n",
      "GaussianNB_acc:\t\t\t\t95.333\n",
      "LeaveOneOut_LogisticRegression: 288.86ms\n",
      "LogisticRegression_acc:\t\t95.333\n",
      "LeaveOneOut_KNeighborsClassifier: 205.18ms\n",
      "KNeighborsClassifier_acc:\t95.333\n"
     ]
    }
   ],
   "source": [
    "from sklearn.model_selection import LeaveOneOut, cross_val_score\n",
    "from sklearn.preprocessing import StandardScaler\n",
    "\n",
    "def cal_metrics(clf, X=X):\n",
    "    loo = LeaveOneOut()\n",
    "    scaler = StandardScaler()\n",
    "    X_scaled = scaler.fit_transform(X)\n",
    "    # Calculate accuracy\n",
    "    acc_scores = cross_val_score(clf, X_scaled, y, cv=loo)\n",
    "    acc = acc_scores.mean() * 100\n",
    "    return acc, None\n",
    "\n",
    "from sklearn.naive_bayes import GaussianNB as Classifier\n",
    "with Timer(\"LeaveOneOut_GaussianNB\"):\n",
    "    acc, _ = cal_metrics(Classifier())\n",
    "print(f\"GaussianNB_acc:\\t\\t\\t\\t{acc:.3f}\")\n",
    "\n",
    "from sklearn.linear_model import LogisticRegression as Classifier\n",
    "with Timer(\"LeaveOneOut_LogisticRegression\"):\n",
    "    acc, _ = cal_metrics(Classifier())\n",
    "print(f\"LogisticRegression_acc:\\t\\t{acc:.3f}\")\n",
    "\n",
    "from sklearn.neighbors import KNeighborsClassifier as Classifier\n",
    "with Timer(\"LeaveOneOut_KNeighborsClassifier\"):\n",
    "    acc, _ = cal_metrics(Classifier(n_neighbors=8))\n",
    "print(f\"KNeighborsClassifier_acc:\\t{acc:.3f}\")"
   ],
   "metadata": {
    "collapsed": false,
    "ExecuteTime": {
     "end_time": "2024-10-09T13:58:50.651256200Z",
     "start_time": "2024-10-09T13:58:50.017413Z"
    }
   },
   "id": "a19b62b005037407"
  },
  {
   "cell_type": "markdown",
   "source": [
    "---\n",
    "### drop 20% w/ LDA"
   ],
   "metadata": {
    "collapsed": false
   },
   "id": "66573a53b50c699a"
  },
  {
   "cell_type": "code",
   "execution_count": 15,
   "outputs": [
    {
     "name": "stdout",
     "output_type": "stream",
     "text": [
      "Random20_GaussianNB: 909.18ms\n",
      "GaussianNB_acc:\t\t\t\t97.109\n",
      "GaussianNB_std:\t\t\t\t0.017\n",
      "Random20_LogisticRegression: 1547.53ms\n",
      "LogisticRegression_acc:\t\t92.534\n",
      "LogisticRegression_std:\t\t0.078\n",
      "Random20_KNeighborsClassifier: 3544.39ms\n",
      "KNeighborsClassifier_acc:\t97.409\n",
      "KNeighborsClassifier_std:\t0.018\n"
     ]
    }
   ],
   "source": [
    "from sklearn.model_selection import ShuffleSplit, cross_val_score\n",
    "from sklearn.preprocessing import StandardScaler\n",
    "from sklearn.naive_bayes import GaussianNB\n",
    "from sklearn.linear_model import LogisticRegression\n",
    "from sklearn.neighbors import KNeighborsClassifier\n",
    "\n",
    "def cal_metrics(clf, X=reduced_X):\n",
    "    cv = ShuffleSplit(n_splits=1000, test_size=0.8)\n",
    "    scaler = StandardScaler()\n",
    "    X_scaled = scaler.fit_transform(X)\n",
    "    acc_scores = cross_val_score(clf, X_scaled, y, cv=cv)\n",
    "    acc = acc_scores.mean() * 100\n",
    "    return acc, acc_scores.std()\n",
    "\n",
    "with Timer(\"Random20_GaussianNB\"):\n",
    "    acc, std = cal_metrics(GaussianNB())\n",
    "print(f\"GaussianNB_acc:\\t\\t\\t\\t{acc:.3f}\")\n",
    "print(f\"GaussianNB_std:\\t\\t\\t\\t{std:.3f}\")\n",
    "\n",
    "with Timer(\"Random20_LogisticRegression\"):\n",
    "    acc, std = cal_metrics(LogisticRegression())\n",
    "print(f\"LogisticRegression_acc:\\t\\t{acc:.3f}\")\n",
    "print(f\"LogisticRegression_std:\\t\\t{std:.3f}\")\n",
    "\n",
    "with Timer(\"Random20_KNeighborsClassifier\"):\n",
    "    acc, std = cal_metrics(KNeighborsClassifier(n_neighbors=5))\n",
    "print(f\"KNeighborsClassifier_acc:\\t{acc:.3f}\")\n",
    "print(f\"KNeighborsClassifier_std:\\t{std:.3f}\")"
   ],
   "metadata": {
    "collapsed": false,
    "ExecuteTime": {
     "end_time": "2024-10-09T13:58:56.658529600Z",
     "start_time": "2024-10-09T13:58:50.646756100Z"
    }
   },
   "id": "ca816052402ba575"
  },
  {
   "cell_type": "markdown",
   "source": [
    "---\n",
    "### drop 20% w/o LDA"
   ],
   "metadata": {
    "collapsed": false
   },
   "id": "3c9daa85a6bfb230"
  },
  {
   "cell_type": "code",
   "execution_count": 16,
   "outputs": [
    {
     "name": "stdout",
     "output_type": "stream",
     "text": [
      "Random20_GaussianNB: 815.98ms\n",
      "GaussianNB_acc:\t\t\t\t93.817\n",
      "GaussianNB_std:\t\t\t\t0.030\n",
      "Random20_LogisticRegression: 1803.57ms\n",
      "LogisticRegression_acc:\t\t90.757\n",
      "LogisticRegression_std:\t\t0.049\n",
      "Random20_KNeighborsClassifier: 3652.74ms\n",
      "KNeighborsClassifier_acc:\t90.313\n",
      "KNeighborsClassifier_std:\t0.044\n"
     ]
    }
   ],
   "source": [
    "from sklearn.model_selection import ShuffleSplit, cross_val_score\n",
    "from sklearn.preprocessing import StandardScaler\n",
    "from sklearn.naive_bayes import GaussianNB\n",
    "from sklearn.linear_model import LogisticRegression\n",
    "from sklearn.neighbors import KNeighborsClassifier\n",
    "\n",
    "def cal_metrics(clf, X=X):\n",
    "    cv = ShuffleSplit(n_splits=1000, test_size=0.8)\n",
    "    scaler = StandardScaler()\n",
    "    X_scaled = scaler.fit_transform(X)\n",
    "    acc_scores = cross_val_score(clf, X_scaled, y, cv=cv)\n",
    "    acc = acc_scores.mean() * 100\n",
    "    return acc, acc_scores.std()\n",
    "\n",
    "with Timer(\"Random20_GaussianNB\"):\n",
    "    acc, std = cal_metrics(GaussianNB())\n",
    "print(f\"GaussianNB_acc:\\t\\t\\t\\t{acc:.3f}\")\n",
    "print(f\"GaussianNB_std:\\t\\t\\t\\t{std:.3f}\")\n",
    "\n",
    "with Timer(\"Random20_LogisticRegression\"):\n",
    "    acc, std = cal_metrics(LogisticRegression())\n",
    "print(f\"LogisticRegression_acc:\\t\\t{acc:.3f}\")\n",
    "print(f\"LogisticRegression_std:\\t\\t{std:.3f}\")\n",
    "\n",
    "with Timer(\"Random20_KNeighborsClassifier\"):\n",
    "    acc, std = cal_metrics(KNeighborsClassifier(n_neighbors=5))\n",
    "print(f\"KNeighborsClassifier_acc:\\t{acc:.3f}\")\n",
    "print(f\"KNeighborsClassifier_std:\\t{std:.3f}\")"
   ],
   "metadata": {
    "collapsed": false,
    "ExecuteTime": {
     "end_time": "2024-10-09T13:59:02.935680500Z",
     "start_time": "2024-10-09T13:58:56.654529300Z"
    }
   },
   "id": "64e7e45b9a5660b1"
  },
  {
   "cell_type": "code",
   "execution_count": 16,
   "outputs": [],
   "source": [],
   "metadata": {
    "collapsed": false,
    "ExecuteTime": {
     "end_time": "2024-10-09T13:59:02.935680500Z",
     "start_time": "2024-10-09T13:59:02.932297600Z"
    }
   },
   "id": "111e1b8f5975f6e3"
  }
 ],
 "metadata": {
  "kernelspec": {
   "display_name": "Python 3",
   "language": "python",
   "name": "python3"
  },
  "language_info": {
   "codemirror_mode": {
    "name": "ipython",
    "version": 2
   },
   "file_extension": ".py",
   "mimetype": "text/x-python",
   "name": "python",
   "nbconvert_exporter": "python",
   "pygments_lexer": "ipython2",
   "version": "2.7.6"
  }
 },
 "nbformat": 4,
 "nbformat_minor": 5
}
