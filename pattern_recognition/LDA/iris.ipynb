{
 "cells": [
  {
   "cell_type": "code",
   "execution_count": 16,
   "outputs": [],
   "source": [
    "import numpy as np\n",
    "import seaborn as sns\n",
    "import pandas as pd\n",
    "import matplotlib.pyplot as plt\n",
    "from sklearn.decomposition import PCA\n",
    "\n",
    "def draw(X, y):\n",
    "    if X.shape[-1] >= 2:\n",
    "        pca = PCA(n_components=2)\n",
    "        X_pca = pca.fit_transform(X)\n",
    "        df_pca = pd.DataFrame(X_pca, columns=['PC1', 'PC2'])\n",
    "        df_pca['class'] = y\n",
    "        plt.figure(figsize=(6, 5))\n",
    "        sns.scatterplot(x='PC1', y='PC2', data=df_pca, hue='class', \n",
    "                        palette=sns.color_palette(\"hsv\", len(np.unique(y))),  legend=\"full\")\n",
    "    elif X.shape[-1] == 1:\n",
    "        padding = np.random.random(X.shape)\n",
    "        X = np.concatenate([X, padding], axis=-1)\n",
    "        draw(X, y)\n",
    "    else: # dim == 0\n",
    "        raise RuntimeError(\"X.shape[-1]==0, Make sure a right X input.\")"
   ],
   "metadata": {
    "collapsed": false,
    "ExecuteTime": {
     "end_time": "2024-10-08T04:25:15.728756500Z",
     "start_time": "2024-10-08T04:25:15.710045800Z"
    }
   },
   "id": "6d517ff52b72f9e"
  },
  {
   "cell_type": "code",
   "execution_count": 17,
   "outputs": [],
   "source": [
    "from sklearn.datasets import load_iris\n",
    "from sklearn.preprocessing import StandardScaler\n",
    "iris = load_iris()\n",
    "X = iris.data\n",
    "y = iris.target\n",
    "scaler = StandardScaler()\n",
    "X = scaler.fit_transform(X)\n",
    "# draw(X, y)"
   ],
   "metadata": {
    "collapsed": false,
    "ExecuteTime": {
     "end_time": "2024-10-08T04:25:15.757377700Z",
     "start_time": "2024-10-08T04:25:15.720948300Z"
    }
   },
   "id": "initial_id"
  },
  {
   "cell_type": "code",
   "execution_count": 18,
   "outputs": [],
   "source": [
    "from lda import LDA\n",
    "lda = LDA(n_components=1)\n",
    "lda.fit(X, y)\n",
    "reduced_X = lda(X)\n",
    "# draw(reduced_X, y)"
   ],
   "metadata": {
    "collapsed": false,
    "ExecuteTime": {
     "end_time": "2024-10-08T04:25:15.757893400Z",
     "start_time": "2024-10-08T04:25:15.733773200Z"
    }
   },
   "id": "b05257ab21d09d3d"
  },
  {
   "cell_type": "code",
   "execution_count": 25,
   "outputs": [
    {
     "name": "stdout",
     "output_type": "stream",
     "text": [
      "acc: 98.66666666666667\n"
     ]
    }
   ],
   "source": [
    "from sklearn.naive_bayes import GaussianNB as Classifier\n",
    "#from sklearn.linear_model import LogisticRegression as Classifier\n",
    "from sklearn.model_selection import LeaveOneOut, cross_val_score\n",
    "gnb = Classifier()\n",
    "loo = LeaveOneOut()\n",
    "scores = cross_val_score(gnb, reduced_X, y, cv=loo)\n",
    "print(\"acc:\", scores.mean() * 100)"
   ],
   "metadata": {
    "collapsed": false,
    "ExecuteTime": {
     "end_time": "2024-10-08T04:28:33.663452100Z",
     "start_time": "2024-10-08T04:28:33.529350700Z"
    }
   },
   "id": "ddbf1e91877b92bc"
  },
  {
   "cell_type": "code",
   "execution_count": 19,
   "outputs": [],
   "source": [],
   "metadata": {
    "collapsed": false,
    "ExecuteTime": {
     "end_time": "2024-10-08T04:25:15.881556800Z",
     "start_time": "2024-10-08T04:25:15.874750300Z"
    }
   },
   "id": "d7219f3489b5fe1c"
  }
 ],
 "metadata": {
  "kernelspec": {
   "display_name": "Python 3",
   "language": "python",
   "name": "python3"
  },
  "language_info": {
   "codemirror_mode": {
    "name": "ipython",
    "version": 2
   },
   "file_extension": ".py",
   "mimetype": "text/x-python",
   "name": "python",
   "nbconvert_exporter": "python",
   "pygments_lexer": "ipython2",
   "version": "2.7.6"
  }
 },
 "nbformat": 4,
 "nbformat_minor": 5
}
