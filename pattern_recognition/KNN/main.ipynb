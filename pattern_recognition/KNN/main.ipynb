{
 "cells": [
  {
   "cell_type": "code",
   "execution_count": 3,
   "id": "614c4013f275e256",
   "metadata": {
    "collapsed": true,
    "ExecuteTime": {
     "end_time": "2024-10-31T13:45:52.202681700Z",
     "start_time": "2024-10-31T13:45:49.532362900Z"
    }
   },
   "outputs": [],
   "source": [
    "from knn import KNNClassifier, load_cifar, load_mnist, load_iris"
   ]
  },
  {
   "cell_type": "code",
   "execution_count": 18,
   "outputs": [
    {
     "name": "stdout",
     "output_type": "stream",
     "text": [
      "Time: 21.9\n",
      "Accuracy: 97.42%\n"
     ]
    }
   ],
   "source": [
    "# mnist\n",
    "train_set, test_set = load_mnist()\n",
    "\n",
    "X_train = train_set.data.view(train_set.data.size(0), -1).float()\n",
    "y_train = train_set.targets\n",
    "X_test = test_set.data.view(test_set.data.size(0), -1).float()\n",
    "y_test = test_set.targets\n",
    "\n",
    "knn = KNNClassifier(k=3, distance_metric='cosine')\n",
    "knn.fit(X_train, y_train)\n",
    "\n",
    "import time\n",
    "start_time = time.time()\n",
    "y_pred = knn.predict(X_test)\n",
    "print(f\"Time: {round(time.time() - start_time, 1)}\")\n",
    "accuracy = (y_pred == y_test).float().mean().item()\n",
    "print(f\"Accuracy: {accuracy * 100:.2f}%\")"
   ],
   "metadata": {
    "collapsed": false,
    "ExecuteTime": {
     "end_time": "2024-10-31T12:45:57.538595900Z",
     "start_time": "2024-10-31T12:45:35.364415700Z"
    }
   },
   "id": "initial_id"
  },
  {
   "cell_type": "code",
   "execution_count": 29,
   "outputs": [
    {
     "name": "stdout",
     "output_type": "stream",
     "text": [
      "Files already downloaded and verified\n",
      "Files already downloaded and verified\n",
      "Time: 4.5\n",
      "Accuracy: 29.40%\n"
     ]
    }
   ],
   "source": [
    "# cifar10\n",
    "import torch\n",
    "train_set, test_set = load_cifar()\n",
    "train_data, test_data = torch.from_numpy(train_set.data), torch.from_numpy(test_set.data)\n",
    "\n",
    "X_train = train_data.reshape(train_data.size(0), -1).float()\n",
    "y_train = torch.tensor(train_set.targets)\n",
    "X_test = test_data.reshape(test_data.size(0), -1).float()\n",
    "y_test = torch.tensor(test_set.targets)\n",
    "\n",
    "from sklearn.decomposition import PCA\n",
    "pca = PCA(n_components=32)\n",
    "X_train_pca = torch.tensor(pca.fit_transform(X_train.numpy()))\n",
    "X_test_pca = torch.tensor(pca.transform(X_test.numpy()))\n",
    "\n",
    "knn = KNNClassifier(k=3, distance_metric='euclidean')\n",
    "knn.fit(X_train_pca, y_train)\n",
    "\n",
    "import time\n",
    "start_time = time.time()\n",
    "y_pred = knn.predict(X_test_pca)\n",
    "print(f\"Time: {round(time.time() - start_time, 1)}\")\n",
    "accuracy = (y_pred == y_test).float().mean().item()\n",
    "print(f\"Accuracy: {accuracy * 100:.2f}%\")"
   ],
   "metadata": {
    "collapsed": false,
    "ExecuteTime": {
     "end_time": "2024-10-31T13:02:10.096099Z",
     "start_time": "2024-10-31T13:02:02.685790500Z"
    }
   },
   "id": "77426854b92fc52a"
  },
  {
   "cell_type": "code",
   "execution_count": 7,
   "outputs": [
    {
     "name": "stdout",
     "output_type": "stream",
     "text": [
      "Files already downloaded and verified\n",
      "Files already downloaded and verified\n",
      "Time: 11.8 seconds\n",
      "Accuracy: 30.98%\n"
     ]
    }
   ],
   "source": [
    "from sklearn.discriminant_analysis import LinearDiscriminantAnalysis as LDA\n",
    "import torch\n",
    "train_set, test_set = load_cifar()\n",
    "train_data, test_data = torch.from_numpy(train_set.data), torch.from_numpy(test_set.data)\n",
    "X_train = train_data.reshape(train_data.size(0), -1).float()\n",
    "y_train = torch.tensor(train_set.targets)\n",
    "X_test = test_data.reshape(test_data.size(0), -1).float()\n",
    "y_test = torch.tensor(test_set.targets)\n",
    "\n",
    "mean = X_train.mean(dim=0)\n",
    "std = X_train.std(dim=0)\n",
    "X_train = (X_train - mean) / std\n",
    "X_test = (X_test - mean) / std\n",
    "\n",
    "lda = LDA(n_components=9)\n",
    "X_train_lda = torch.tensor(lda.fit_transform(X_train.numpy(), y_train.numpy()))\n",
    "X_test_lda = torch.tensor(lda.transform(X_test.numpy()))\n",
    "\n",
    "knn = KNNClassifier(k=3, distance_metric='euclidean')\n",
    "knn.fit(X_train_lda, y_train)\n",
    "\n",
    "import time\n",
    "start_time = time.time()\n",
    "y_pred = knn.predict(X_test_lda)\n",
    "print(f\"Time: {round(time.time() - start_time, 1)} seconds\")\n",
    "accuracy = (y_pred == y_test).float().mean().item()\n",
    "print(f\"Accuracy: {accuracy * 100:.2f}%\")"
   ],
   "metadata": {
    "collapsed": false,
    "ExecuteTime": {
     "end_time": "2024-10-31T13:49:07.725148700Z",
     "start_time": "2024-10-31T13:47:26.312016900Z"
    }
   },
   "id": "386f69a755973405"
  },
  {
   "cell_type": "code",
   "execution_count": null,
   "outputs": [],
   "source": [],
   "metadata": {
    "collapsed": false,
    "ExecuteTime": {
     "start_time": "2024-10-31T13:42:30.604066400Z"
    }
   },
   "id": "8be47014eb5f369d"
  }
 ],
 "metadata": {
  "kernelspec": {
   "display_name": "Python 3",
   "language": "python",
   "name": "python3"
  },
  "language_info": {
   "codemirror_mode": {
    "name": "ipython",
    "version": 2
   },
   "file_extension": ".py",
   "mimetype": "text/x-python",
   "name": "python",
   "nbconvert_exporter": "python",
   "pygments_lexer": "ipython2",
   "version": "2.7.6"
  }
 },
 "nbformat": 4,
 "nbformat_minor": 5
}
